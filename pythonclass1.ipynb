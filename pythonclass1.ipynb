{
  "nbformat": 4,
  "nbformat_minor": 0,
  "metadata": {
    "colab": {
      "provenance": [],
      "authorship_tag": "ABX9TyPc23Djiql1YxqDUFVCaexx",
      "include_colab_link": true
    },
    "kernelspec": {
      "name": "python3",
      "display_name": "Python 3"
    },
    "language_info": {
      "name": "python"
    }
  },
  "cells": [
    {
      "cell_type": "markdown",
      "metadata": {
        "id": "view-in-github",
        "colab_type": "text"
      },
      "source": [
        "<a href=\"https://colab.research.google.com/github/safwankkmohammed/python/blob/main/pythonclass1.ipynb\" target=\"_parent\"><img src=\"https://colab.research.google.com/assets/colab-badge.svg\" alt=\"Open In Colab\"/></a>"
      ]
    },
    {
      "cell_type": "code",
      "execution_count": null,
      "metadata": {
        "id": "VXhTlrG1ZBY-"
      },
      "outputs": [],
      "source": []
    },
    {
      "source": [
        "a=5"
      ],
      "cell_type": "code",
      "metadata": {
        "id": "pPcUZdfMZPpP"
      },
      "execution_count": null,
      "outputs": []
    },
    {
      "cell_type": "code",
      "source": [
        "print(a)"
      ],
      "metadata": {
        "colab": {
          "base_uri": "https://localhost:8080/"
        },
        "id": "D96bm6GNalV-",
        "outputId": "e9c5c0cb-42a8-4b3a-efc3-dbcc9056e6c3"
      },
      "execution_count": null,
      "outputs": [
        {
          "output_type": "stream",
          "name": "stdout",
          "text": [
            "5\n"
          ]
        }
      ]
    },
    {
      "cell_type": "code",
      "source": [
        "print(type(a))"
      ],
      "metadata": {
        "colab": {
          "base_uri": "https://localhost:8080/"
        },
        "id": "ovCiyriua1jo",
        "outputId": "f541c5ef-1aad-471e-9b86-c341e95babb3"
      },
      "execution_count": null,
      "outputs": [
        {
          "output_type": "stream",
          "name": "stdout",
          "text": [
            "<class 'int'>\n"
          ]
        }
      ]
    },
    {
      "cell_type": "code",
      "source": [
        "b=1.2"
      ],
      "metadata": {
        "id": "nbiPnGExcQ3E"
      },
      "execution_count": null,
      "outputs": []
    },
    {
      "cell_type": "code",
      "source": [
        "print(type(b))\n"
      ],
      "metadata": {
        "colab": {
          "base_uri": "https://localhost:8080/"
        },
        "id": "FHLK0SLBcej3",
        "outputId": "3d9dd904-f77b-4173-c4ca-748c2a3737d5"
      },
      "execution_count": null,
      "outputs": [
        {
          "output_type": "stream",
          "name": "stdout",
          "text": [
            "<class 'float'>\n"
          ]
        }
      ]
    },
    {
      "cell_type": "code",
      "source": [
        "c=\"safwan\""
      ],
      "metadata": {
        "id": "1wNFfCy1ciMn"
      },
      "execution_count": null,
      "outputs": []
    },
    {
      "cell_type": "code",
      "source": [
        "print(c)"
      ],
      "metadata": {
        "colab": {
          "base_uri": "https://localhost:8080/"
        },
        "id": "d2mx1hotcnm1",
        "outputId": "d7624757-1a33-40ab-efe5-32bf092f7611"
      },
      "execution_count": null,
      "outputs": [
        {
          "output_type": "stream",
          "name": "stdout",
          "text": [
            "safwan\n"
          ]
        }
      ]
    },
    {
      "cell_type": "code",
      "source": [
        "print(type(c))\n"
      ],
      "metadata": {
        "colab": {
          "base_uri": "https://localhost:8080/"
        },
        "id": "TyCPqyLTcrvd",
        "outputId": "a186b187-3b4e-4f73-d605-d5142439c906"
      },
      "execution_count": null,
      "outputs": [
        {
          "output_type": "stream",
          "name": "stdout",
          "text": [
            "<class 'str'>\n"
          ]
        }
      ]
    },
    {
      "cell_type": "code",
      "source": [
        "d=False"
      ],
      "metadata": {
        "id": "Ahg1n9BLcuk_"
      },
      "execution_count": null,
      "outputs": []
    },
    {
      "cell_type": "code",
      "source": [
        "print(type(d))\n"
      ],
      "metadata": {
        "colab": {
          "base_uri": "https://localhost:8080/"
        },
        "id": "jQAdI5XtdAXS",
        "outputId": "791b8d39-1723-4afd-a5bd-f70a50a628e5"
      },
      "execution_count": null,
      "outputs": [
        {
          "output_type": "stream",
          "name": "stdout",
          "text": [
            "<class 'bool'>\n"
          ]
        }
      ]
    },
    {
      "cell_type": "code",
      "source": [
        "e=[\"123\",\"safwan\",\"adarsh\",\"9744861269\",\"12.23\",\"True\"]"
      ],
      "metadata": {
        "id": "cHSO4bcJdCyc"
      },
      "execution_count": null,
      "outputs": []
    },
    {
      "cell_type": "code",
      "source": [
        "print(e)"
      ],
      "metadata": {
        "colab": {
          "base_uri": "https://localhost:8080/"
        },
        "id": "3RIOa1X_eE_7",
        "outputId": "ed84a893-14d8-4a40-c76e-a177ac2f9565"
      },
      "execution_count": null,
      "outputs": [
        {
          "output_type": "stream",
          "name": "stdout",
          "text": [
            "['123', 'safwan', 'adarsh', '9744861269', '12.23', 'True']\n"
          ]
        }
      ]
    },
    {
      "cell_type": "code",
      "source": [
        "print(type(e))"
      ],
      "metadata": {
        "colab": {
          "base_uri": "https://localhost:8080/"
        },
        "id": "cuFzGJoYeeDW",
        "outputId": "ba7620eb-42ca-4299-ce67-0f4222208898"
      },
      "execution_count": null,
      "outputs": [
        {
          "output_type": "stream",
          "name": "stdout",
          "text": [
            "<class 'list'>\n"
          ]
        }
      ]
    },
    {
      "cell_type": "code",
      "source": [
        "f=(\"123\",\"safwan\",\"adarsh\",\"9744861269\",\"12.23\",\"True\")"
      ],
      "metadata": {
        "id": "3s30R65ieg0j"
      },
      "execution_count": null,
      "outputs": []
    },
    {
      "cell_type": "code",
      "source": [
        "print(f)"
      ],
      "metadata": {
        "colab": {
          "base_uri": "https://localhost:8080/"
        },
        "id": "92YeeMRJfSl6",
        "outputId": "3c13d024-6837-40d9-dae0-2b0352b57b05"
      },
      "execution_count": null,
      "outputs": [
        {
          "output_type": "stream",
          "name": "stdout",
          "text": [
            "('123', 'safwan', 'adarsh', '9744861269', '12.23', 'True')\n"
          ]
        }
      ]
    },
    {
      "cell_type": "code",
      "source": [
        "print(type(f))"
      ],
      "metadata": {
        "colab": {
          "base_uri": "https://localhost:8080/"
        },
        "id": "FrVPYR8bfYn5",
        "outputId": "75be8ad5-8090-4bd0-ce3b-4b9b1f7aa6ef"
      },
      "execution_count": null,
      "outputs": [
        {
          "output_type": "stream",
          "name": "stdout",
          "text": [
            "<class 'tuple'>\n"
          ]
        }
      ]
    },
    {
      "cell_type": "code",
      "source": [
        "g={\"123\",\"safwan\",\"adarsh\",\"9744861269\",\"12.23\",\"True\"}\n",
        "print(g)\n",
        "print(type(g))"
      ],
      "metadata": {
        "colab": {
          "base_uri": "https://localhost:8080/"
        },
        "id": "AiS4PD_ufbaU",
        "outputId": "29f70bc6-f79c-43bd-dd9d-389add5e712b"
      },
      "execution_count": null,
      "outputs": [
        {
          "output_type": "stream",
          "name": "stdout",
          "text": [
            "{'12.23', 'adarsh', '9744861269', 'safwan', '123', 'True'}\n",
            "<class 'set'>\n"
          ]
        }
      ]
    },
    {
      "cell_type": "code",
      "source": [
        "frozenset(g)"
      ],
      "metadata": {
        "colab": {
          "base_uri": "https://localhost:8080/"
        },
        "id": "lNzkofq8ftw9",
        "outputId": "fb11ac6c-8cca-42aa-dbdb-2a2f75cc691b"
      },
      "execution_count": null,
      "outputs": [
        {
          "output_type": "execute_result",
          "data": {
            "text/plain": [
              "frozenset({'12.23', '123', '9744861269', 'True', 'adarsh', 'safwan'})"
            ]
          },
          "metadata": {},
          "execution_count": 19
        }
      ]
    },
    {
      "cell_type": "code",
      "source": [
        "print(type(g))"
      ],
      "metadata": {
        "colab": {
          "base_uri": "https://localhost:8080/"
        },
        "id": "6mEbE61Of8go",
        "outputId": "7a55d1f9-fd86-41e4-ed5d-a38cf92d99e9"
      },
      "execution_count": null,
      "outputs": [
        {
          "output_type": "stream",
          "name": "stdout",
          "text": [
            "<class 'set'>\n"
          ]
        }
      ]
    },
    {
      "cell_type": "code",
      "source": [
        "di={1:\"safwan\",2:\"adarsh\",3:\"9744861269\"}"
      ],
      "metadata": {
        "id": "VF4yB987gd-m"
      },
      "execution_count": null,
      "outputs": []
    },
    {
      "cell_type": "code",
      "source": [
        "type(di)\n",
        "di"
      ],
      "metadata": {
        "colab": {
          "base_uri": "https://localhost:8080/"
        },
        "id": "A775inUMgwnn",
        "outputId": "108370b7-e726-42ce-8c30-f71d27b91230"
      },
      "execution_count": null,
      "outputs": [
        {
          "output_type": "execute_result",
          "data": {
            "text/plain": [
              "{1: 'safwan', 2: 'adarsh', 3: '9744861269'}"
            ]
          },
          "metadata": {},
          "execution_count": 22
        }
      ]
    },
    {
      "cell_type": "code",
      "source": [
        "type(di)\n"
      ],
      "metadata": {
        "colab": {
          "base_uri": "https://localhost:8080/"
        },
        "id": "nm3C8OIGg3pT",
        "outputId": "bad009f3-3b0b-44a2-efce-3807b0d707aa"
      },
      "execution_count": null,
      "outputs": [
        {
          "output_type": "execute_result",
          "data": {
            "text/plain": [
              "dict"
            ]
          },
          "metadata": {},
          "execution_count": 23
        }
      ]
    },
    {
      "cell_type": "code",
      "source": [
        "print(di[2])"
      ],
      "metadata": {
        "colab": {
          "base_uri": "https://localhost:8080/"
        },
        "id": "H1-oSfr1g8D9",
        "outputId": "04d6c972-8231-46db-9651-d3776b3b1bcb"
      },
      "execution_count": null,
      "outputs": [
        {
          "output_type": "stream",
          "name": "stdout",
          "text": [
            "adarsh\n"
          ]
        }
      ]
    },
    {
      "cell_type": "code",
      "source": [
        "print(type(di))\n",
        "print(di[3])"
      ],
      "metadata": {
        "colab": {
          "base_uri": "https://localhost:8080/"
        },
        "id": "WmIZ9OuxhUjx",
        "outputId": "6a93da13-34b5-402f-e9ea-7d1bfcfd3c8e"
      },
      "execution_count": null,
      "outputs": [
        {
          "output_type": "stream",
          "name": "stdout",
          "text": [
            "<class 'dict'>\n",
            "9744861269\n"
          ]
        }
      ]
    },
    {
      "cell_type": "code",
      "source": [],
      "metadata": {
        "id": "kWvNNp-1hhkq"
      },
      "execution_count": null,
      "outputs": []
    },
    {
      "source": [
        "# Sample Tuple\n",
        "my_tuple = (10, 20, 10, 30, 10, 40, 'apple', 'banana', 'cherry', 'banana', 50)\n",
        "\n",
        "# 1. len() - Get the length of the tuple\n",
        "print(\"Length of the tuple:\", len(my_tuple))\n",
        "\n",
        "# 2. count() - Count occurrences of a value\n",
        "print(\"Count of 10:\", my_tuple.count(10))\n",
        "print(\"Count of 'banana':\", my_tuple.count('banana'))\n",
        "print(\"Count of 100 (not in tuple):\", my_tuple.count(100))\n",
        "\n",
        "# 3. index() - Find the index of a value (first occurrence)\n",
        "print(\"Index of 30:\", my_tuple.index(30))\n",
        "print(\"Index of 'cherry':\", my_tuple.index('cherry'))\n",
        "\n",
        "# Using index with start and end arguments (optional)\n",
        "# print(\"Index of 'banana' starting from index 8:\", my_tuple.index('banana', 8)) # Uncomment to see the result\n",
        "\n",
        "# 4. sorted() - Create a new sorted list from the tuple\n",
        "# Note: This requires all elements to be of comparable types\n",
        "numeric_tuple = (5, 2, 8, 1, 9)\n",
        "sorted_list = sorted(numeric_tuple)\n",
        "print(\"Sorted list from numeric tuple:\", sorted_list)\n",
        "\n",
        "# 5. min() - Get the minimum value (requires comparable types)\n",
        "print(\"Minimum value in numeric tuple:\", min(numeric_tuple))\n",
        "\n",
        "# 6. max() - Get the maximum value (requires comparable types)\n",
        "print(\"Maximum value in numeric tuple:\", max(numeric_tuple))\n",
        "\n",
        "# 7. sum() - Get the sum of values (requires numeric types)\n",
        "print(\"Sum of values in numeric tuple:\", sum(numeric_tuple))\n",
        "\n",
        "# 8. tuple() - Convert an iterable to a tuple\n",
        "my_list = [1, 2, 3]\n",
        "new_tuple = tuple(my_list)\n",
        "print(\"Tuple created from a list:\", new_tuple)\n",
        "\n",
        "my_string = \"hello\"\n",
        "tuple_from_string = tuple(my_string)\n",
        "print(\"Tuple created from a string:\", tuple_from_string)"
      ],
      "cell_type": "code",
      "metadata": {
        "colab": {
          "base_uri": "https://localhost:8080/"
        },
        "id": "Y98mIcpti5nM",
        "outputId": "4c9c89a3-ba0b-409d-f619-4f167e39a3f0"
      },
      "execution_count": null,
      "outputs": [
        {
          "output_type": "stream",
          "name": "stdout",
          "text": [
            "Length of the tuple: 11\n",
            "Count of 10: 3\n",
            "Count of 'banana': 2\n",
            "Count of 100 (not in tuple): 0\n",
            "Index of 30: 3\n",
            "Index of 'cherry': 8\n",
            "Sorted list from numeric tuple: [1, 2, 5, 8, 9]\n",
            "Minimum value in numeric tuple: 1\n",
            "Maximum value in numeric tuple: 9\n",
            "Sum of values in numeric tuple: 25\n",
            "Tuple created from a list: (1, 2, 3)\n",
            "Tuple created from a string: ('h', 'e', 'l', 'l', 'o')\n"
          ]
        }
      ]
    },
    {
      "cell_type": "code",
      "source": [
        "Explaining the Tuple Code\n",
        "\n",
        "This section of the code focuses on demonstrating various operations and functions that can be used with tuples in Python. Tuples are similar to lists, but they are immutable, meaning their elements cannot be changed after creation.\n",
        "\n",
        "First, a sample tuple named my_tuple is created containing a mix of integer and string elements.\n",
        "\n",
        "my_tuple = (10, 20, 10, 30, 10, 40, 'apple', 'banana', 'cherry', 'banana', 50)\n",
        "\n",
        "Use code with caution\n",
        "\n",
        "The code then proceeds to show several common operations:\n",
        "1. Getting the Length of a Tuple\n",
        "\n",
        "The len() function is used to determine the number of elements in a tuple.\n",
        "\n",
        "print(\"Length of the tuple:\", len(my_tuple))\n",
        "\n",
        "Use code with caution\n",
        "2. Counting Element Occurrences\n",
        "\n",
        "The .count() method is used to find out how many times a specific value appears within the tuple.\n",
        "\n",
        "print(\"Count of 10:\", my_tuple.count(10))\n",
        "print(\"Count of 'banana':\", my_tuple.count('banana'))\n",
        "print(\"Count of 100 (not in tuple):\", my_tuple.count(100))\n",
        "\n",
        "Use code with caution\n",
        "\n",
        "The third print statement shows that if the element is not present, .count() returns 0.\n",
        "3. Finding the Index of an Element\n",
        "\n",
        "The .index() method is used to find the index (position) of the first occurrence of a given value in the tuple.\n",
        "\n",
        "print(\"Index of 30:\", my_tuple.index(30))\n",
        "print(\"Index of 'cherry':\", my_tuple.index('cherry'))\n",
        "\n",
        "Use code with caution\n",
        "\n",
        "There's a commented-out line that shows you can optionally provide a starting index to search from.\n",
        "4. Creating a Sorted List from a Tuple\n",
        "\n",
        "The sorted() function takes an iterable (like a tuple) as input and returns a new list with the elements sorted. This function requires all elements in the tuple to be of comparable types (e.g., all numbers or all strings). A separate numeric_tuple is created for this example.\n",
        "\n",
        "numeric_tuple = (5, 2, 8, 1, 9)\n",
        "sorted_list = sorted(numeric_tuple)\n",
        "print(\"Sorted list from numeric tuple:\", sorted_list)\n",
        "\n",
        "Use code with caution\n",
        "5. Finding the Minimum Value\n",
        "\n",
        "The min() function returns the smallest element in a tuple. Like sorted(), this requires comparable types.\n",
        "\n",
        "print(\"Minimum value in numeric tuple:\", min(numeric_tuple))\n",
        "\n",
        "Use code with caution\n",
        "6. Finding the Maximum Value\n",
        "\n",
        "The max() function returns the largest element in a tuple. This also requires comparable types.\n",
        "\n",
        "print(\"Maximum value in numeric tuple:\", max(numeric_tuple))\n",
        "\n",
        "Use code with caution\n",
        "7. Calculating the Sum of Values\n",
        "\n",
        "The sum() function calculates the sum of all elements in a tuple. This function only works with numeric types.\n",
        "\n",
        "print(\"Sum of values in numeric tuple:\", sum(numeric_tuple))\n",
        "\n",
        "Use code with caution\n",
        "8. Converting to a Tuple\n",
        "\n",
        "The tuple() constructor can be used to convert other iterable objects (like lists or strings) into tuples.\n",
        "\n",
        "my_list = [1, 2, 3]\n",
        "new_tuple = tuple(my_list)\n",
        "print(\"Tuple created from a list:\", new_tuple)\n",
        "\n",
        "my_string = \"hello\"\n",
        "tuple_from_string = tuple(my_string)\n",
        "print(\"Tuple created from a string:\", tuple_from_string)\n",
        "\n",
        "Use code with caution\n",
        "\n",
        "This demonstrates the flexibility of creating tuples from different data structures.\n"
      ],
      "metadata": {
        "id": "db7hK-ZErNx5"
      },
      "execution_count": null,
      "outputs": []
    }
  ]
}