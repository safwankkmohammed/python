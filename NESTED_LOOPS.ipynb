{
  "nbformat": 4,
  "nbformat_minor": 0,
  "metadata": {
    "colab": {
      "provenance": []
    },
    "kernelspec": {
      "name": "python3",
      "display_name": "Python 3"
    },
    "language_info": {
      "name": "python"
    }
  },
  "cells": [
    {
      "cell_type": "markdown",
      "source": [
        "# NESTED LOOPS\n",
        "A nested loop is a loop inside another loop. It's commonly used to work with multi-dimensional data structures, grids, or repeated iterations within other iterations."
      ],
      "metadata": {
        "id": "lddCUnhk2NLR"
      }
    },
    {
      "cell_type": "markdown",
      "source": [
        "## FEATURES\n",
        "\n",
        "🔄 The inner loop runs completely for each iteration of the outer loop.\n",
        "\n",
        "📈 Execution time increases exponentially with each additional level of nesting (e.g., 2 nested loops = O(n²)).\n",
        "\n",
        "🧮 Ideal for working with multi-dimensional data like matrices, grids, and tables.\n",
        "\n",
        "📚 Often used in pattern printing, data processing, and algorithm development (e.g., sorting, searching).\n",
        "\n",
        "🔁 You can nest any type of loop (for, while) inside each other.\n",
        "\n",
        "🧠 Each loop must use a unique loop variable to avoid conflicts and ensure clarity.\n",
        "\n",
        "🪜 Supports multiple levels of nesting (loop within loop within loop, etc.), though too many levels can hurt readability.\n",
        "\n",
        "⚠️ Improper nesting or exit conditions can lead to infinite loops or logical errors.\n",
        "\n",
        "🧹 Inner loops can contain control statements like break, continue, or even return."
      ],
      "metadata": {
        "id": "9dtYSn4f3AOB"
      }
    },
    {
      "cell_type": "markdown",
      "source": [
        "### NESTED FOR LOOP\n",
        "A nested for loop means having one for loop inside another. It's commonly used to iterate over multi-dimensional data or perform repetitive tasks within a loop.\n",
        "\n",
        "CHARACTERISTICS\n",
        "\n",
        "    Inner loop completes all iterations for each outer loop cycle.\n",
        "\n",
        "    Use different loop variables for clarity (e.g., i, j).\n",
        "\n",
        "    Useful for matrix operations, nested lists, game boards, and pattern generation.\n"
      ],
      "metadata": {
        "id": "sRYmKDF-3i6c"
      }
    },
    {
      "cell_type": "markdown",
      "source": [
        "### NESTED IF LOOP\n",
        "A nested if statement is an if block placed inside another if block. It's used when you want to check a condition only if a previous condition is true.\n",
        "\n",
        "CHARECTERISTICS\n",
        "\n",
        "Allows multiple layers of decision-making.\n",
        "\n",
        "Only checks deeper conditions if the previous ones are true.\n",
        "\n",
        " Use indentation properly to avoid confusion.\n",
        "\n",
        " Can nest if statements multiple levels deep, but keep logic clear."
      ],
      "metadata": {
        "id": "IIVWsJRn4NCl"
      }
    },
    {
      "cell_type": "code",
      "source": [
        "# NESTED FOR LOOP EXAMPLE\n",
        "print(\"Nested For Loop: Multiplication Table (1 to 3)\")\n",
        "\n",
        "for i in range(1, 11):  # Outer loop\n",
        "    for j in range(1, 11):  # Inner loop\n",
        "        print(f\"{i} x {j} = {i * j}\")\n",
        "    print(\"---\")  # Just a separator between tables\n",
        "\n",
        "# Explanation:\n",
        "# Outer loop runs for i = 1, 2, 3\n",
        "# For each i, inner loop runs for j = 1, 2, 3\n",
        "# So it prints a small 3x3 multiplication table\n",
        "\n",
        "# ----------------------------------------------\n",
        "\n",
        "# NESTED IF STATEMENTS EXAMPLE\n",
        "print(\"\\nNested If Statement: Grade Evaluation\")\n",
        "\n",
        "score = 70  # Try changing this value to see different outputs\n",
        "\n",
        "if score >= 50:\n",
        "    if score >= 75:\n",
        "        print(\"Excellent\")\n",
        "    else:\n",
        "        print(\"Passed\")\n",
        "else:\n",
        "    print(\"Failed\")\n",
        "\n",
        "# Explanation:\n",
        "# The outer if checks if the score is at least 50\n",
        "# If so, it further checks if the score is 75 or more\n",
        "# Otherwise, it prints \"Failed\"\n",
        "\n",
        "# ----------------------------------------------\n",
        "\n",
        "# BONUS: Combine both\n",
        "print(\"\\nBonus: Nested For with Nested If\")\n",
        "\n",
        "for i in range(1, 6):\n",
        "    if i % 2 == 0:\n",
        "        print(f\"{i} is even\": Sign-in\n",
        "\n",
        "        if i > 2:\n",
        "            print(f\"{i} is also greater than 2\")\n",
        "    else:\n",
        "        print(f\"{i} is odd\")\n"
      ],
      "metadata": {
        "colab": {
          "base_uri": "https://localhost:8080/",
          "height": 106
        },
        "id": "b0441CJC2Gls",
        "outputId": "ad39e8c0-6905-4bca-dde0-e13ece59611b"
      },
      "execution_count": null,
      "outputs": [
        {
          "output_type": "error",
          "ename": "SyntaxError",
          "evalue": "invalid syntax (<ipython-input-10-1f52b24371cf>, line 41)",
          "traceback": [
            "\u001b[0;36m  File \u001b[0;32m\"<ipython-input-10-1f52b24371cf>\"\u001b[0;36m, line \u001b[0;32m41\u001b[0m\n\u001b[0;31m    print(f\"{i} is even\": Sign-in\u001b[0m\n\u001b[0m                        ^\u001b[0m\n\u001b[0;31mSyntaxError\u001b[0m\u001b[0;31m:\u001b[0m invalid syntax\n"
          ]
        }
      ]
    },
    {
      "cell_type": "code",
      "source": [
        "#Example 2: Pattern Printing\n",
        "for i in range(1, 6):         # Outer loop controls the number of rows\n",
        "    for j in range(1, i+1):   # Inner loop controls the number of stars\n",
        "        print(\"*\", end=\" \")\n",
        "    print()                   # Moves to next line after each row\n"
      ],
      "metadata": {
        "colab": {
          "base_uri": "https://localhost:8080/"
        },
        "id": "vSh19xWY2HTg",
        "outputId": "d58ce8d8-1d74-411a-df24-d4c2aa01f7b2"
      },
      "execution_count": null,
      "outputs": [
        {
          "output_type": "stream",
          "name": "stdout",
          "text": [
            "* \n",
            "* * \n",
            "* * * \n",
            "* * * * \n",
            "* * * * * \n"
          ]
        }
      ]
    },
    {
      "cell_type": "code",
      "source": [
        " #Example 2: Age and License Check\n",
        "age = 18\n",
        "has_license = True\n",
        "\n",
        "if age >= 18:\n",
        "    if has_license:\n",
        "        print(\"You can drive\")\n",
        "    else:\n",
        "        print(\"You need a license to drive\")\n",
        "else:\n",
        "    print(\"You're too young to drive\")\n"
      ],
      "metadata": {
        "colab": {
          "base_uri": "https://localhost:8080/"
        },
        "id": "9j_Kq1Rc5Pm3",
        "outputId": "c5e3738b-db77-4a73-f2e6-6d7d35da7afd"
      },
      "execution_count": null,
      "outputs": [
        {
          "output_type": "stream",
          "name": "stdout",
          "text": [
            "You can drive\n"
          ]
        }
      ]
    },
    {
      "source": [
        "rows = 20 # You can change the number of rows\n",
        "\n",
        "for i in range(1, rows + 1):\n",
        "    # Print leading spaces\n",
        "    for j in range(rows - i):\n",
        "        print(\" \", end=\"\")\n",
        "\n",
        "    # Print stars\n",
        "    for k in range(2 * i - 1):\n",
        "        print(\"#\", end=\"\")\n",
        "\n",
        "    # Move to the next line\n",
        "    print()"
      ],
      "cell_type": "code",
      "metadata": {
        "colab": {
          "base_uri": "https://localhost:8080/"
        },
        "id": "BE1AlsC9i-Pu",
        "outputId": "732c8be2-1a40-414f-ce45-ca133a412582"
      },
      "execution_count": null,
      "outputs": [
        {
          "output_type": "stream",
          "name": "stdout",
          "text": [
            "                   #\n",
            "                  ###\n",
            "                 #####\n",
            "                #######\n",
            "               #########\n",
            "              ###########\n",
            "             #############\n",
            "            ###############\n",
            "           #################\n",
            "          ###################\n",
            "         #####################\n",
            "        #######################\n",
            "       #########################\n",
            "      ###########################\n",
            "     #############################\n",
            "    ###############################\n",
            "   #################################\n",
            "  ###################################\n",
            " #####################################\n",
            "#######################################\n"
          ]
        }
      ]
    },
    {
      "cell_type": "code",
      "source": [
        "def myfunction():\n",
        "  print(\"Hello World\")"
      ],
      "metadata": {
        "id": "HMjkK5nBWxtl"
      },
      "execution_count": null,
      "outputs": []
    },
    {
      "cell_type": "code",
      "source": [
        "myfunction()"
      ],
      "metadata": {
        "colab": {
          "base_uri": "https://localhost:8080/"
        },
        "id": "fZQz_XuQDtL3",
        "outputId": "08ffb292-48f8-4629-febd-5337f190932e"
      },
      "execution_count": null,
      "outputs": [
        {
          "output_type": "stream",
          "name": "stdout",
          "text": [
            "Hello World\n"
          ]
        }
      ]
    },
    {
      "cell_type": "code",
      "source": [
        "a=10\n",
        "b=4\n",
        "def sum_of_2_numbers(a,b=5):\n",
        "  return a+b\n",
        "print(sum_of_2_numbers(a))\n"
      ],
      "metadata": {
        "colab": {
          "base_uri": "https://localhost:8080/"
        },
        "id": "6SOJmlj7DxTH",
        "outputId": "424bc2e7-1692-4874-9d55-d3237bdc69f6"
      },
      "execution_count": null,
      "outputs": [
        {
          "output_type": "stream",
          "name": "stdout",
          "text": [
            "15\n"
          ]
        }
      ]
    },
    {
      "cell_type": "code",
      "source": [
        "def simple_decorator(func):\n",
        "    def wrapper():\n",
        "        print(\"Before calling the function.\")\n",
        "        func()\n",
        "        print(\"After calling the function.\")\n",
        "    return wrapper\n",
        "\n",
        "@simple_decorator\n",
        "def greet():\n",
        "    print(\"Hello, World!\")\n",
        "\n",
        "greet()"
      ],
      "metadata": {
        "colab": {
          "base_uri": "https://localhost:8080/"
        },
        "id": "k4F-mjKMETYs",
        "outputId": "b54cec93-dcdd-47f7-aeb8-b0e1cef7a6f7"
      },
      "execution_count": null,
      "outputs": [
        {
          "output_type": "stream",
          "name": "stdout",
          "text": [
            "Before calling the function.\n",
            "Hello, World!\n",
            "After calling the function.\n"
          ]
        }
      ]
    },
    {
      "source": [
        "import time\n",
        "\n",
        "def timer_decorator(func):\n",
        "    def wrapper(*args, **kwargs):\n",
        "        start_time = time.time()\n",
        "        result = func(*args, **kwargs)\n",
        "        end_time = time.time()\n",
        "        print(f\"Function '{func.__name__}' took {end_time - start_time:.4f} seconds to execute.\")\n",
        "        return result\n",
        "    return wrapper\n",
        "\n",
        "@timer_decorator\n",
        "def long_running_function(seconds):\n",
        "    \"\"\"Simulates a function that takes some time to run.\"\"\"\n",
        "    print(f\"Starting simulated work for {seconds} seconds...\")\n",
        "    time.sleep(seconds)\n",
        "    print(\"Finished simulated work.\")\n",
        "    return f\"Completed in {seconds} seconds.\"\n",
        "\n",
        "@timer_decorator\n",
        "def another_function(a, b):\n",
        "    \"\"\"A simple function that adds two numbers.\"\"\"\n",
        "    print(f\"Adding {a} and {b}\")\n",
        "    return a + b\n",
        "\n",
        "# Call the decorated functions\n",
        "long_running_function(2)\n",
        "print(\"-\" * 20)\n",
        "sum_result = another_function(10, 20)\n",
        "print(f\"Sum result: {sum_result}\")"
      ],
      "cell_type": "code",
      "metadata": {
        "colab": {
          "base_uri": "https://localhost:8080/"
        },
        "id": "zqFy9QNLJXpn",
        "outputId": "98d6739a-41fe-4d47-efa8-e2a1132543ed"
      },
      "execution_count": null,
      "outputs": [
        {
          "output_type": "stream",
          "name": "stdout",
          "text": [
            "Starting simulated work for 2 seconds...\n",
            "Finished simulated work.\n",
            "Function 'long_running_function' took 2.0003 seconds to execute.\n",
            "--------------------\n",
            "Adding 10 and 20\n",
            "Function 'another_function' took 0.0000 seconds to execute.\n",
            "Sum result: 30\n"
          ]
        }
      ]
    },
    {
      "cell_type": "code",
      "source": [
        "class Parent:\n",
        "  def randsom_parent(self):\n",
        "    print(\"Parent Randsom\")\n",
        "class child(Parent):\n",
        "  def random(self):\n",
        "    print(\"Child Randsom\")\n"
      ],
      "metadata": {
        "id": "8YkOIx4QF0CP"
      },
      "execution_count": null,
      "outputs": []
    }
  ]
}